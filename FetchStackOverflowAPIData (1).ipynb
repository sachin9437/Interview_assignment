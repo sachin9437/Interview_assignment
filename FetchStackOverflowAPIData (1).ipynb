{
 "cells": [
  {
   "cell_type": "code",
   "execution_count": 0,
   "metadata": {
    "application/vnd.databricks.v1+cell": {
     "cellMetadata": {},
     "inputWidgets": {},
     "nuid": "94fcb67d-2d57-4ed7-96b2-db6b77b95efa",
     "showTitle": false,
     "title": ""
    }
   },
   "outputs": [],
   "source": [
    "\n",
    "%pip install requests\n",
    "import requests\n",
    "from pyspark.sql import SparkSession\n",
    "\n",
    "spark = SparkSession.builder.appName(\"FetchStackOverflowAPIData\").getOrCreate()\n",
    "\n",
    "#Find the trending tags\n",
    "api_url = \"https://api.stackexchange.com/2.3/tags?order=desc&sort=popular&site=stackoverflow&fromdate=1669814400&todate=1691452800\"\n",
    "response = requests.get(api_url)\n",
    "data = response.json()\n",
    "trending_tags = data['items']\n",
    "\n",
    "# Transforming the data\n",
    "df = spark.createDataFrame(trending_tags)\n",
    "\n",
    "# Storing data on Delta Lake\n",
    "table_location = \"/delta/stack_overflow_tags\"\n",
    "df.write.format(\"delta\").mode(\"overwrite\").save(table_location)\n",
    "\n",
    "# Create Delta table\n",
    "spark.sql(\"drop table if exists stack_overflow_tags\")\n",
    "spark.sql(f\"CREATE TABLE stack_overflow_tags USING DELTA LOCATION '{table_location}'\")\n",
    "\n",
    "# Query for insights\n",
    "top_trending_tags = spark.sql(\"SELECT * FROM stack_overflow_tags LIMIT 10\")\n",
    "print(\"stack_overflow_popular_tags\")\n",
    "top_trending_tags.show()\n",
    "\n",
    "#Comments with at least a score of 10 on Ask Ubuntu\n",
    "api_url = \"https://api.stackexchange.com/2.3/comments?order=desc&sort=votes&site=askubuntu&min=10\"\n",
    "response = requests.get(api_url)\n",
    "data = response.json()\n",
    "comments = data['items']\n",
    "\n",
    "# Transforming the data\n",
    "df = spark.createDataFrame(comments)\n",
    "\n",
    "# Storing data on Delta Lake\n",
    "table_location = \"/delta/ask_ubuntu_comments\"\n",
    "df.write.format(\"delta\").mode(\"overwrite\").save(table_location)\n",
    "\n",
    "# Create Delta table\n",
    "\n",
    "spark.sql(\"drop table if exists ask_ubuntu_comments\")\n",
    "spark.sql(f\"CREATE TABLE ask_ubuntu_comments USING DELTA LOCATION '{table_location}'\")\n",
    "\n",
    "# Query - Comments with Score >= 10\n",
    "print(\"ask_ubuntu_comments\")\n",
    "high_score_comments = spark.sql(\"SELECT * FROM ask_ubuntu_comments WHERE score >= 10\")\n",
    "high_score_comments.show()\n"
   ]
  }
 ],
 "metadata": {
  "application/vnd.databricks.v1+notebook": {
   "dashboards": [],
   "language": "python",
   "notebookMetadata": {
    "pythonIndentUnit": 4
   },
   "notebookName": "FetchStackOverflowAPIData",
   "widgets": {}
  }
 },
 "nbformat": 4,
 "nbformat_minor": 0
}

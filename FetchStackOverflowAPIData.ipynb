{
 "cells": [
  {
   "cell_type": "code",
   "execution_count": 0,
   "metadata": {
    "application/vnd.databricks.v1+cell": {
     "cellMetadata": {
      "byteLimit": 2048000,
      "rowLimit": 10000
     },
     "inputWidgets": {},
     "nuid": "52a22cfe-66de-4b4f-a2dd-714aa520023c",
     "showTitle": false,
     "title": ""
    }
   },
   "outputs": [
    {
     "output_type": "stream",
     "name": "stdout",
     "output_type": "stream",
     "text": [
      "Python interpreter will be restarted.\nRequirement already satisfied: requests in /databricks/python3/lib/python3.9/site-packages (2.27.1)\nRequirement already satisfied: idna<4,>=2.5 in /databricks/python3/lib/python3.9/site-packages (from requests) (3.3)\nRequirement already satisfied: charset-normalizer~=2.0.0 in /databricks/python3/lib/python3.9/site-packages (from requests) (2.0.4)\nRequirement already satisfied: urllib3<1.27,>=1.21.1 in /databricks/python3/lib/python3.9/site-packages (from requests) (1.26.9)\nRequirement already satisfied: certifi>=2017.4.17 in /databricks/python3/lib/python3.9/site-packages (from requests) (2021.10.8)\nPython interpreter will be restarted.\n+-----+------------+-----------------+-----------+--------------------+\n|count|has_synonyms|is_moderator_only|is_required|                name|\n+-----+------------+-----------------+-----------+--------------------+\n|  355|       false|            false|      false|         chatgpt-api|\n|  328|       false|            false|      false|       matplotlib-3d|\n|  190|        true|            false|      false|amazon-selling-pa...|\n|  175|       false|            false|      false|              cnosdb|\n|  161|       false|            false|      false|     mui-x-data-grid|\n|  159|       false|            false|      false|              yolov8|\n|  152|       false|            false|      false|                 llm|\n|  137|       false|            false|      false|        azure-openai|\n|  135|       false|            false|      false|        py-langchain|\n| 2413|        true|            false|      false|         apache-axis|\n+-----+------------+-----------------+-----------+--------------------+\n\n+----------+---------------+-------------+------+--------------------+-------+-----+\n|comment_id|content_license|creation_date|edited|               owner|post_id|score|\n+----------+---------------+-------------+------+--------------------+-------+-----+\n|    469127|   CC BY-SA 3.0|   1382887202| false|{profile_image ->...| 223267|  102|\n|    250572|   CC BY-SA 3.0|   1350300549| false|{profile_image ->...|  44124|  102|\n|   1455994|   CC BY-SA 3.0|   1496510993| false|{profile_image ->...| 871077|  102|\n|    589302|   CC BY-SA 3.0|   1397710584| false|{profile_image ->...|  56327|  101|\n|    607979|   CC BY-SA 3.0|   1399354957| false|{profile_image ->...| 201308|   98|\n|     53029|   CC BY-SA 3.0|   1307684934| false|{profile_image ->...|  17537|   98|\n|   1430430|   CC BY-SA 3.0|   1493370546| false|{profile_image ->...| 865569|  133|\n|     40804|   CC BY-SA 3.0|   1303633331| false|{profile_image ->...|  36717|  132|\n|    504348|   CC BY-SA 3.0|   1387624722| false|{profile_image ->...| 363244|  132|\n|    324490|   CC BY-SA 3.0|   1361564291| false|{profile_image ->...| 229512|  131|\n|     25368|   CC BY-SA 2.5|   1296098447| false|{profile_image ->...|  23337|  125|\n|    377882|   CC BY-SA 3.0|   1369595620| false|{profile_image ->...|  86852|  120|\n|    120186|   CC BY-SA 3.0|   1329160500| false|{profile_image ->...| 103916|  154|\n|    964522|   CC BY-SA 3.0|   1441024490| false|{profile_image ->...| 278455|  154|\n|      1155|   CC BY-SA 2.5|   1281034601| false|{profile_image ->...|   1226|  144|\n|    652139|   CC BY-SA 3.0|   1403729136| false|{profile_image ->...|   1379|  291|\n|    597098|   CC BY-SA 3.0|   1398325413| false|{profile_image ->...| 227513|  267|\n|    225864|   CC BY-SA 3.0|   1346187831| false|{profile_image ->...|  17829|  260|\n|    243687|   CC BY-SA 3.0|   1349268086| false|{profile_image ->...|    602|  232|\n|    393714|   CC BY-SA 3.0|   1372022057| false|{profile_image ->...|  68203|  173|\n+----------+---------------+-------------+------+--------------------+-------+-----+\nonly showing top 20 rows\n\n"
     ]
    }
   ],
   "source": [
    "\n",
    "%pip install requests\n",
    "import requests\n",
    "from pyspark.sql import SparkSession\n",
    "\n",
    "spark = SparkSession.builder.appName(\"FetchStackOverflowAPIData\").getOrCreate()\n",
    "\n",
    "#Find the trending tags\n",
    "api_url = \"https://api.stackexchange.com/2.3/tags?order=desc&sort=popular&site=stackoverflow&fromdate=1669814400&todate=1691452800\"\n",
    "response = requests.get(api_url)\n",
    "data = response.json()\n",
    "trending_tags = data['items']\n",
    "\n",
    "# Transforming the data\n",
    "df = spark.createDataFrame(trending_tags)\n",
    "\n",
    "# Storing data on Delta Lake\n",
    "table_location = \"/delta/stack_overflow_tags\"\n",
    "df.write.format(\"delta\").mode(\"overwrite\").save(table_location)\n",
    "\n",
    "# Create Delta table\n",
    "spark.sql(\"drop table if exists stack_overflow_tags\")\n",
    "spark.sql(f\"CREATE TABLE stack_overflow_tags USING DELTA LOCATION '{table_location}'\")\n",
    "\n",
    "# Query for insights\n",
    "top_trending_tags = spark.sql(\"SELECT * FROM stack_overflow_tags LIMIT 10\")\n",
    "print(\"stack_overflow_popular_tags\")\n",
    "top_trending_tags.show()\n",
    "\n",
    "#Comments with at least a score of 10 on Ask Ubuntu\n",
    "api_url = \"https://api.stackexchange.com/2.3/comments?order=desc&sort=votes&site=askubuntu&min=10\"\n",
    "response = requests.get(api_url)\n",
    "data = response.json()\n",
    "comments = data['items']\n",
    "\n",
    "# Transforming the data\n",
    "df = spark.createDataFrame(comments)\n",
    "\n",
    "# Storing data on Delta Lake\n",
    "table_location = \"/delta/ask_ubuntu_comments\"\n",
    "df.write.format(\"delta\").mode(\"overwrite\").save(table_location)\n",
    "\n",
    "# Create Delta table\n",
    "\n",
    "spark.sql(\"drop table if exists ask_ubuntu_comments\")\n",
    "spark.sql(f\"CREATE TABLE ask_ubuntu_comments USING DELTA LOCATION '{table_location}'\")\n",
    "\n",
    "# Query - Comments with Score >= 10\n",
    "print(\"ask_ubuntu_comments\")\n",
    "high_score_comments = spark.sql(\"SELECT * FROM ask_ubuntu_comments WHERE score >= 10\")\n",
    "high_score_comments.show()\n"
   ]
  },
  {
   "cell_type": "code",
   "execution_count": 0,
   "metadata": {
    "application/vnd.databricks.v1+cell": {
     "cellMetadata": {
      "byteLimit": 2048000,
      "rowLimit": 10000
     },
     "inputWidgets": {},
     "nuid": "71d7f5d6-b8dc-4662-b568-f07c5ca6bc18",
     "showTitle": false,
     "title": ""
    }
   },
   "outputs": [
    {
     "output_type": "stream",
     "name": "stdout",
     "output_type": "stream",
     "text": [
      "+----------+---------------+-------------+------+--------------------+-------+-----+\n|comment_id|content_license|creation_date|edited|               owner|post_id|score|\n+----------+---------------+-------------+------+--------------------+-------+-----+\n|    250572|   CC BY-SA 3.0|   1350300549| false|{profile_image ->...|  44124|  102|\n|    469127|   CC BY-SA 3.0|   1382887202| false|{profile_image ->...| 223267|  102|\n|   1455994|   CC BY-SA 3.0|   1496510993| false|{profile_image ->...| 871077|  102|\n|    589302|   CC BY-SA 3.0|   1397710584| false|{profile_image ->...|  56327|  101|\n|    607979|   CC BY-SA 3.0|   1399354957| false|{profile_image ->...| 201308|   98|\n|     53029|   CC BY-SA 3.0|   1307684934| false|{profile_image ->...|  17537|   98|\n|   1430430|   CC BY-SA 3.0|   1493370546| false|{profile_image ->...| 865569|  133|\n|    504348|   CC BY-SA 3.0|   1387624722| false|{profile_image ->...| 363244|  132|\n|     40804|   CC BY-SA 3.0|   1303633331| false|{profile_image ->...|  36717|  132|\n|    324490|   CC BY-SA 3.0|   1361564291| false|{profile_image ->...| 229512|  131|\n|     25368|   CC BY-SA 2.5|   1296098447| false|{profile_image ->...|  23337|  125|\n|    377882|   CC BY-SA 3.0|   1369595620| false|{profile_image ->...|  86852|  120|\n|    964522|   CC BY-SA 3.0|   1441024490| false|{profile_image ->...| 278455|  154|\n|    120186|   CC BY-SA 3.0|   1329160500| false|{profile_image ->...| 103916|  154|\n|      1155|   CC BY-SA 2.5|   1281034601| false|{profile_image ->...|   1226|  144|\n|    652139|   CC BY-SA 3.0|   1403729136| false|{profile_image ->...|   1379|  291|\n|    597098|   CC BY-SA 3.0|   1398325413| false|{profile_image ->...| 227513|  267|\n|    225864|   CC BY-SA 3.0|   1346187831| false|{profile_image ->...|  17829|  260|\n|    243687|   CC BY-SA 3.0|   1349268086| false|{profile_image ->...|    602|  232|\n|    393714|   CC BY-SA 3.0|   1372022057| false|{profile_image ->...|  68203|  173|\n+----------+---------------+-------------+------+--------------------+-------+-----+\nonly showing top 20 rows\n\nGitHub Link: your_github_link\n"
     ]
    }
   ],
   "source": [
    "\n",
    "import requests\n",
    "from pyspark.sql import SparkSession\n",
    "\n",
    "# Set up Spark session\n",
    "spark = SparkSession.builder.appName(\"StackOverflowAnalysis\").getOrCreate()\n",
    "\n",
    "# Data Retrieval\n",
    "api_url = \"https://api.stackexchange.com/2.3/comments?order=desc&sort=votes&site=askubuntu&min=10\"\n",
    "response = requests.get(api_url)\n",
    "data = response.json()\n",
    "comments = data['items']\n",
    "\n",
    "# Data Transformation\n",
    "df = spark.createDataFrame(comments)\n",
    "\n",
    "# Data Storage (Delta Lake)\n",
    "delta_path = \"/delta/ask_ubuntu_comments\"\n",
    "df.write.format(\"delta\").mode(\"overwrite\").save(delta_path)\n",
    "\n",
    "# Create Delta table\n",
    "spark.sql(f\"CREATE TABLE ask_ubuntu_comments USING DELTA LOCATION '{delta_path}'\")\n",
    "\n",
    "# Sample Query: Comments with Score >= 10\n",
    "high_score_comments = spark.sql(\"SELECT * FROM ask_ubuntu_comments WHERE score >= 10\")\n",
    "high_score_comments.show()\n",
    "\n",
    "# Remember to replace 'your_github_link' with the actual link to your code hosted on GitHub\n",
    "github_link = 'your_github_link'\n",
    "\n",
    "# Print the GitHub link for sharing\n",
    "print(\"GitHub Link:\", github_link)\n"
   ]
  }
 ],
 "metadata": {
  "application/vnd.databricks.v1+notebook": {
   "dashboards": [],
   "language": "python",
   "notebookMetadata": {
    "pythonIndentUnit": 4
   },
   "notebookName": "FetchStackOverflowAPIData",
   "widgets": {}
  }
 },
 "nbformat": 4,
 "nbformat_minor": 0
}
